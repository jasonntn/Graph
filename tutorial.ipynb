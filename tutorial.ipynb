{
 "cells": [
  {
   "cell_type": "code",
   "execution_count": 1,
   "metadata": {},
   "outputs": [],
   "source": [
    "from graph import Graph"
   ]
  },
  {
   "attachments": {},
   "cell_type": "markdown",
   "metadata": {},
   "source": [
    "# Graph partitioning"
   ]
  },
  {
   "cell_type": "code",
   "execution_count": 8,
   "metadata": {},
   "outputs": [],
   "source": [
    "test = [\n",
    "    (\"A\", \"B\"), \n",
    "    (\"B\", \"C\"), \n",
    "    (\"A\", \"C\"), \n",
    "    (\"B\", \"E\"), \n",
    "    (\"E\", \"D\")\n",
    "]\n",
    "test1 = [\n",
    "    (0, 1), \n",
    "    (0, 2), \n",
    "    (0, 3), \n",
    "    (1, 2), \n",
    "    (3, 4) \n",
    "]"
   ]
  },
  {
   "cell_type": "code",
   "execution_count": 9,
   "metadata": {},
   "outputs": [
    {
     "data": {
      "text/plain": [
       "Graph([(0, 1), (0, 2), (0, 3), (1, 0), (1, 2), (2, 0), (2, 1), (3, 0), (3, 4), (4, 3)])"
      ]
     },
     "execution_count": 9,
     "metadata": {},
     "output_type": "execute_result"
    }
   ],
   "source": [
    "graph = Graph(directed=False)\n",
    "for edge in test1:\n",
    "    graph.add_edge(edge)\n",
    "graph"
   ]
  },
  {
   "cell_type": "code",
   "execution_count": 12,
   "metadata": {},
   "outputs": [],
   "source": [
    "def partition(graph: Graph):\n",
    "    subgraphs = []\n",
    "    current_subgraph = set()\n",
    "    for vertex in graph: # Duyệt qua tất cả các vertex có trong graph\n",
    "        # Nếu vertex hiện tại có liên kết với tất cả các vertex trong current_subgraph thì thêm vertex vào current_subgraph\n",
    "        if all([(v in vertex.neighbor.keys()) for v in current_subgraph]):\n",
    "            current_subgraph.add(vertex.id)\n",
    "        else:\n",
    "            # Ngược lại thì lưu current_subgraph lại và khởi tạo lại current_subgraph và thêm vertex hiện tại vào\n",
    "            subgraphs.append(current_subgraph)\n",
    "            current_subgraph = {vertex.id}\n",
    "    subgraphs.append(current_subgraph)\n",
    "    return subgraphs"
   ]
  },
  {
   "cell_type": "code",
   "execution_count": 13,
   "metadata": {},
   "outputs": [
    {
     "data": {
      "text/plain": [
       "[{0, 1, 2}, {3, 4}]"
      ]
     },
     "execution_count": 13,
     "metadata": {},
     "output_type": "execute_result"
    }
   ],
   "source": [
    "partition(graph)"
   ]
  },
  {
   "cell_type": "code",
   "execution_count": null,
   "metadata": {},
   "outputs": [],
   "source": []
  }
 ],
 "metadata": {
  "kernelspec": {
   "display_name": "Python 3.10.6 64-bit",
   "language": "python",
   "name": "python3"
  },
  "language_info": {
   "codemirror_mode": {
    "name": "ipython",
    "version": 3
   },
   "file_extension": ".py",
   "mimetype": "text/x-python",
   "name": "python",
   "nbconvert_exporter": "python",
   "pygments_lexer": "ipython3",
   "version": "3.8.14"
  },
  "orig_nbformat": 4,
  "vscode": {
   "interpreter": {
    "hash": "916dbcbb3f70747c44a77c7bcd40155683ae19c65e1c03b4aa3499c5328201f1"
   }
  }
 },
 "nbformat": 4,
 "nbformat_minor": 2
}
